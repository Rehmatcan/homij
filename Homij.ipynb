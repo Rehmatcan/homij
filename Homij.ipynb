{
  "nbformat": 4,
  "nbformat_minor": 0,
  "metadata": {
    "colab": {
      "provenance": [],
      "authorship_tag": "ABX9TyNE2OST0iKcPeG1FJGn/6Ks",
      "include_colab_link": true
    },
    "kernelspec": {
      "name": "python3",
      "display_name": "Python 3"
    },
    "language_info": {
      "name": "python"
    }
  },
  "cells": [
    {
      "cell_type": "markdown",
      "metadata": {
        "id": "view-in-github",
        "colab_type": "text"
      },
      "source": [
        "<a href=\"https://colab.research.google.com/github/Rehmatcan/homij/blob/main/Homij.ipynb\" target=\"_parent\"><img src=\"https://colab.research.google.com/assets/colab-badge.svg\" alt=\"Open In Colab\"/></a>"
      ]
    },
    {
      "cell_type": "code",
      "execution_count": 1,
      "metadata": {
        "colab": {
          "base_uri": "https://localhost:8080/"
        },
        "id": "3fT3GxvHzrMw",
        "outputId": "1da9c9dc-c1cf-4cba-f4e1-799459554362"
      },
      "outputs": [
        {
          "output_type": "stream",
          "name": "stdout",
          "text": [
            "Mounted at /content/drive\n",
            "                Types  Temperature (°C)  Time (sec)  IB_0  IB_1  IB_2  IB_3  \\\n",
            "0  Standard Situation              20.0        60.0  0.62  0.87  0.62  0.43   \n",
            "1  Standard Situation              10.0        60.0  0.67  0.86  0.59  0.27   \n",
            "2  Standard Situation               0.0        60.0  0.66  0.84  0.56  0.56   \n",
            "3  Standard Situation             -10.0        60.0  0.67  0.89  0.60  0.52   \n",
            "4  Standard Situation              20.0        30.0   NaN   NaN   NaN   NaN   \n",
            "\n",
            "   IB_4  IB_5  IB_6  ...  GR_2  GR_3  GR_4  GR_5  GR_6  GR_7  GR_8  GR_9  \\\n",
            "0  0.66  0.74  0.66  ...  1.84  1.97  1.89  2.12  1.67  1.90  1.94  1.83   \n",
            "1  0.58  0.57  0.53  ...  1.81  1.93  2.19  2.25  1.64  1.95  1.81  1.84   \n",
            "2  0.80  0.93  0.86  ...  1.84  1.99  1.89  2.12  1.67  1.90  1.94  1.87   \n",
            "3  0.71  0.79  0.69  ...  1.89  1.99  1.90  2.11  1.67  1.89  1.77  1.82   \n",
            "4   NaN   NaN   NaN  ...   NaN   NaN   NaN   NaN   NaN   NaN   NaN   NaN   \n",
            "\n",
            "   GR_10  GR_11  \n",
            "0   1.86   1.61  \n",
            "1   2.09   1.80  \n",
            "2   1.86   1.61  \n",
            "3   1.86   1.60  \n",
            "4    NaN    NaN  \n",
            "\n",
            "[5 rows x 120 columns]\n"
          ]
        }
      ],
      "source": [
        "from google.colab import drive\n",
        "import pandas as pd\n",
        "\n",
        "# Mount Google Drive\n",
        "drive.mount('/content/drive')\n",
        "\n",
        "# Replace with the path to your CSV file in your Google Drive\n",
        "file_path = '/content/drive/My Drive/MNLE/Period B/Homij/Dataset Homij CFD results.csv'\n",
        "\n",
        "# Read the CSV file into a pandas DataFrame\n",
        "df = pd.read_csv(file_path)\n",
        "\n",
        "# Display the first 5 rows of the DataFrame\n",
        "print(df.head())"
      ]
    }
  ]
}